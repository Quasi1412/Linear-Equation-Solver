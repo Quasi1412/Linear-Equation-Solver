{
 "cells": [
  {
   "cell_type": "markdown",
   "metadata": {
    "id": "rMVE_BAYgvMU"
   },
   "source": [
    "# MATH630 Programming Assignment#3\n",
    "Prem Kaushyk Premsiva (pp6@njit.edu)"
   ]
  },
  {
   "cell_type": "code",
   "execution_count": 4,
   "metadata": {
    "id": "L03EoQbbAupY"
   },
   "outputs": [],
   "source": [
    "import numpy as np"
   ]
  },
  {
   "cell_type": "code",
   "execution_count": 5,
   "metadata": {
    "id": "vUDCdll2A7gK"
   },
   "outputs": [],
   "source": [
    "def row_exchange(A,row_i,row_j):\n",
    "  \n",
    "  A[[row_i,row_j]] = A[[row_j,row_i]]\n",
    "\n",
    "  return A"
   ]
  },
  {
   "cell_type": "code",
   "execution_count": 6,
   "metadata": {
    "id": "bMjWmtqhGdPT"
   },
   "outputs": [],
   "source": [
    "def row_scale(A,row_i,scaler):\n",
    "\n",
    "  A[[row_i]]= scaler* A[[row_i]]\n",
    "  \n",
    "  return A"
   ]
  },
  {
   "cell_type": "code",
   "execution_count": 7,
   "metadata": {
    "id": "Io5lq06qG8K4"
   },
   "outputs": [],
   "source": [
    "def row_eliminate(A,row_i,row_j,x):\n",
    "\n",
    "  A[[row_j]] = A[[row_j]] + x*A[[row_i]]\n",
    "  \n",
    "  return A"
   ]
  },
  {
   "cell_type": "code",
   "execution_count": 9,
   "metadata": {
    "id": "w06xqXQ_3U1I"
   },
   "outputs": [],
   "source": [
    "def linear_equation_solver(A,b):\n",
    "\n",
    "    A = A.astype(np.float32)\n",
    "    b = b.reshape(b.shape[1],1).astype(np.float32)                \n",
    "    m,n = A.shape\n",
    "    xp = np.zeros(n,float)\n",
    "    free_col=[]\n",
    "    pivot_col=[]\n",
    "\n",
    "    #Reduced Row Echelon Form\n",
    "    cur_row = cur_col = 0\n",
    "    while cur_row < m and cur_col < n:    \n",
    "        pivot = -1\n",
    "        for i, val in enumerate(A[cur_row:,cur_col]):    \n",
    "            if val!= 0 :\n",
    "                pivot = cur_row + i\n",
    "                pivot_col.append(cur_col)      #Recording pivot columns                 \n",
    "                break \n",
    "        if pivot < 0 :\n",
    "            free_col.append(cur_col)           #Recording free columns\n",
    "            cur_col += 1       \n",
    "\n",
    "        else:\n",
    "            if pivot != cur_row:           \n",
    "                A = row_exchange(A,cur_row,pivot)\n",
    "                b = row_exchange(b,cur_row,pivot)\n",
    "                \n",
    "            for row_k in range(cur_row+1, m):\n",
    "                if abs(A[row_k, cur_col]) > abs(A[cur_row, cur_col]):         #Partial Pivoting\n",
    "                  A = row_exchange(A, cur_row, row_k )\n",
    "                  b = row_exchange(b, cur_row, row_k)\n",
    "\n",
    "            scaler = A[cur_row,cur_col]\n",
    "            A = row_scale(A,cur_row,(1/(scaler)))\n",
    "            b = row_scale(b,cur_row,(1/(scaler)))      \n",
    "\n",
    "            for row_k in range(m):\n",
    "\n",
    "                if row_k == cur_row: continue\n",
    "\n",
    "                x = -A[row_k, cur_col] / A[cur_row, cur_col]\n",
    "                A = row_eliminate(A, cur_row, row_k, x)\n",
    "                b = row_eliminate(b, cur_row, row_k, x)\n",
    "\n",
    "            cur_row += 1\n",
    "            cur_col += 1\n",
    "    print(\"REDUCED ROW ECHELON FORM of given matrix \")\n",
    "    print(A)\n",
    "    print(b)\n",
    "            \n",
    "    #Solving for the particular and Homogeneous solutions\n",
    "    xp = np.zeros(n,float)\n",
    "    xh = []\n",
    "\n",
    "    cur_row = cur_col = 0                #Reassign pointers\n",
    "\n",
    "    while cur_row < m and cur_col < n:\n",
    "\n",
    "          zero_row = np.all((A==0), axis = 1)     #Checking for 'No solution'\n",
    "          for row_i in range(len(zero_row)):\n",
    "              if zero_row[row_i] and b[row_i]!=0: \n",
    "                return('No Solution')\n",
    "          \n",
    "\n",
    "          if cur_col in pivot_col:\n",
    "              xp[cur_col] = b[cur_row]        \n",
    "              cur_row+=1\n",
    "        \n",
    "          if cur_col in free_col:\n",
    "              xhi = np.zeros(n,float)     #Homogeneous vectors\n",
    "              \n",
    "              for i in range(0,cur_row):\n",
    "                  xhi[i] = -1 * A[i,cur_col] \n",
    "                  xhi[cur_col] = 1\n",
    "              xh.append(xhi)\n",
    "\n",
    "          cur_col+=1\n",
    "\n",
    "    print(xp) #Particular Solution\n",
    "    print(xh) #Homogeneous Solution"
   ]
  },
  {
   "cell_type": "code",
   "execution_count": 10,
   "metadata": {
    "colab": {
     "base_uri": "https://localhost:8080/"
    },
    "id": "iCjtg1o1WTAb",
    "outputId": "de33d955-d57f-4128-f620-6d8a4a714855"
   },
   "outputs": [
    {
     "name": "stdout",
     "output_type": "stream",
     "text": [
      "REDUCED ROW ECHELON FORM of given matrix \n",
      "[[ 1. -1. -2.  0.  0.  2.]\n",
      " [-0. -0. -0.  1.  0. -2.]\n",
      " [-0. -0. -0. -0.  1.  1.]\n",
      " [ 0.  0.  0.  0.  0.  0.]]\n",
      "[[ 1.]\n",
      " [ 3.]\n",
      " [-4.]\n",
      " [ 0.]]\n",
      "[ 1.  0.  0.  3. -4.  0.]\n",
      "[array([1., 1., 0., 0., 0., 0.]), array([2., 0., 1., 0., 0., 0.]), array([-2.,  2., -1.,  0.,  0.,  1.])]\n"
     ]
    }
   ],
   "source": [
    "#Example_1\n",
    "\n",
    "A = np.matrix([[ -1,  1,  2, -8,  16,   30 ],\n",
    "      [ 4, -4, -8, 28, -60, -108 ],\n",
    "      [ 1, -1, -2,  0, -12,  -10 ],\n",
    "      [ 4, -4, -8, 24, -60, -100 ]])\n",
    "\n",
    "b = np.matrix([-89,328,49,316])\n",
    "\n",
    "linear_equation_solver(A,b)"
   ]
  },
  {
   "cell_type": "code",
   "execution_count": 12,
   "metadata": {
    "colab": {
     "base_uri": "https://localhost:8080/"
    },
    "id": "eIXZOvsWTHRV",
    "outputId": "8bd2acce-d587-4cc5-92d4-1c0288ebcf5b"
   },
   "outputs": [
    {
     "name": "stdout",
     "output_type": "stream",
     "text": [
      "REDUCED ROW ECHELON FORM of given matrix \n",
      "[[ 1.  1.  1.  0. -2.]\n",
      " [ 0.  0.  0.  1. -2.]\n",
      " [ 0.  0.  0.  0.  0.]]\n",
      "[[-2.]\n",
      " [ 2.]\n",
      " [ 0.]]\n",
      "[-2.  0.  0.  2.  0.]\n",
      "[array([-1.,  1.,  0.,  0.,  0.]), array([-1.,  0.,  1.,  0.,  0.]), array([2., 2., 0., 0., 1.])]\n"
     ]
    }
   ],
   "source": [
    "#Example_2\n",
    "\n",
    "A = np.matrix([[2,2,2,4,-12], \n",
    "               [0,0,0,-2,4], \n",
    "               [0,0,0,4,-8]])\n",
    "\n",
    "b = np.matrix([4,-4,8])\n",
    "\n",
    "linear_equation_solver(A,b)"
   ]
  },
  {
   "cell_type": "code",
   "execution_count": 13,
   "metadata": {
    "colab": {
     "base_uri": "https://localhost:8080/"
    },
    "id": "5WhOViHPePlI",
    "outputId": "3b4de5af-2247-412d-d14b-f32d2cf27a61"
   },
   "outputs": [
    {
     "name": "stdout",
     "output_type": "stream",
     "text": [
      "REDUCED ROW ECHELON FORM of given matrix \n",
      "[[ 1.  2.  0. -2.  0. -2.]\n",
      " [ 0.  0.  1. -1.  0.  2.]\n",
      " [ 0.  0.  0.  0.  1. -2.]\n",
      " [ 0.  0.  0.  0.  0.  0.]\n",
      " [ 0.  0.  0.  0.  0.  0.]]\n",
      "[[ 1.]\n",
      " [ 2.]\n",
      " [-1.]\n",
      " [ 0.]\n",
      " [ 0.]]\n",
      "[ 1.  0.  2.  0. -1.  0.]\n",
      "[array([-2.,  1.,  0.,  0.,  0.,  0.]), array([2., 1., 0., 1., 0., 0.]), array([ 2., -2.,  2.,  0.,  0.,  1.])]\n"
     ]
    }
   ],
   "source": [
    "#Midterm Question:\n",
    "\n",
    "A = np.matrix([[1,2,0,-2,1,-4], \n",
    "               [0,0,0,0,1,-2], \n",
    "               [1,2,0,-2,1,-4],\n",
    "               [-2,-4,1,3,-2,10], \n",
    "               [-2,-4,0,4,-2,8]])\n",
    "\n",
    "b = np.matrix([0,-1,0,2,0])\n",
    "\n",
    "linear_equation_solver(A,b)"
   ]
  },
  {
   "cell_type": "code",
   "execution_count": 14,
   "metadata": {
    "colab": {
     "base_uri": "https://localhost:8080/",
     "height": 191
    },
    "id": "5FA9DFtbnDxu",
    "outputId": "937f6e4b-bd97-46c4-ff3e-048e0edd411e"
   },
   "outputs": [
    {
     "name": "stdout",
     "output_type": "stream",
     "text": [
      "REDUCED ROW ECHELON FORM of given matrix \n",
      "[[ 1. -1. -2.  0.  0.  2.]\n",
      " [-0. -0. -0.  1.  0. -2.]\n",
      " [-0. -0. -0. -0.  1.  1.]\n",
      " [ 0.  0.  0.  0.  0.  0.]]\n",
      "[[-6.       ]\n",
      " [ 2.75     ]\n",
      " [-4.5833335]\n",
      " [ 0.3333335]]\n"
     ]
    },
    {
     "data": {
      "text/plain": [
       "'No Solution'"
      ]
     },
     "execution_count": 14,
     "metadata": {},
     "output_type": "execute_result"
    }
   ],
   "source": [
    "#Example_4 (No solution)\n",
    "\n",
    "A = np.matrix([[ -1,  1,  2, -8,  16,   30 ],\n",
    "      [ 4, -4, -8, 28, -60, -108 ],\n",
    "      [ 1, -1, -2,  0, -12,  -10 ],\n",
    "      [ 4, -4, -8, 24, -60, -100 ]])\n",
    "\n",
    "b = np.matrix([-89,328,49,317])\n",
    "\n",
    "linear_equation_solver(A,b)"
   ]
  },
  {
   "cell_type": "code",
   "execution_count": null,
   "metadata": {},
   "outputs": [],
   "source": []
  }
 ],
 "metadata": {
  "colab": {
   "collapsed_sections": [],
   "name": "Linear_eqn_solver.ipynb",
   "provenance": []
  },
  "kernelspec": {
   "display_name": "Python 3 (ipykernel)",
   "language": "python",
   "name": "python3"
  },
  "language_info": {
   "codemirror_mode": {
    "name": "ipython",
    "version": 3
   },
   "file_extension": ".py",
   "mimetype": "text/x-python",
   "name": "python",
   "nbconvert_exporter": "python",
   "pygments_lexer": "ipython3",
   "version": "3.8.10"
  }
 },
 "nbformat": 4,
 "nbformat_minor": 1
}
